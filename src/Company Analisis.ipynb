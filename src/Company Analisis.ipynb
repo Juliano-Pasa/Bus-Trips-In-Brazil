{
 "cells": [
  {
   "cell_type": "markdown",
   "id": "9611a57c-062d-4341-8c09-2a06b21b07c8",
   "metadata": {},
   "source": [
    "# Connect to DB"
   ]
  },
  {
   "cell_type": "code",
   "execution_count": 5,
   "id": "da7f81cd-136f-46e2-82b2-50d3778700c0",
   "metadata": {},
   "outputs": [],
   "source": [
    "import os\n",
    "import psycopg2\n",
    "\n",
    "conn = psycopg2.connect(host='localhost', port=5432, dbname='ANTT', user=os.environ[\"PGDBUSER\"], password=os.environ[\"PGDBPASSWORD\"])\n",
    "cur = conn.cursor()"
   ]
  },
  {
   "cell_type": "markdown",
   "id": "81aa09ab-7f40-4e95-840b-a949ef036b89",
   "metadata": {},
   "source": [
    "# Company counts"
   ]
  },
  {
   "cell_type": "code",
   "execution_count": 19,
   "id": "cd93d60c-abf3-470e-abba-05ea8a0c9797",
   "metadata": {},
   "outputs": [],
   "source": [
    "query = \"\"\"\n",
    "    SELECT \n",
    "        cnpj, COUNT(1) as totalTrips\n",
    "    FROM\n",
    "        regulartrips\n",
    "    GROUP BY\n",
    "        cnpj\n",
    "    ORDER BY totalTrips DESC;\n",
    "\"\"\"\n",
    "cur.execute(query)"
   ]
  },
  {
   "cell_type": "code",
   "execution_count": 20,
   "id": "42431b60-9a4e-4203-9f1a-124115e426d1",
   "metadata": {},
   "outputs": [],
   "source": [
    "result = cur.fetchall()"
   ]
  },
  {
   "cell_type": "code",
   "execution_count": 21,
   "id": "06fae707-bd74-4fd6-b9bc-5208d06fefd7",
   "metadata": {},
   "outputs": [],
   "source": [
    "import numpy as np\n",
    "\n",
    "totalCompanies = len(result)\n",
    "tripCounts = [entry[1] for entry in result]\n",
    "tripCounts = np.asarray(tripCounts)"
   ]
  },
  {
   "cell_type": "code",
   "execution_count": 22,
   "id": "c6d7deb8-24ca-4519-8bad-c2d9e317bb5c",
   "metadata": {},
   "outputs": [
    {
     "name": "stdout",
     "output_type": "stream",
     "text": [
      "213\n"
     ]
    }
   ],
   "source": [
    "print(totalCompanies)"
   ]
  },
  {
   "cell_type": "markdown",
   "id": "70792a49-d277-4299-bb51-02cf18462111",
   "metadata": {},
   "source": [
    "# Trips per company"
   ]
  },
  {
   "cell_type": "code",
   "execution_count": 23,
   "id": "346e1838-883d-42a4-bdf9-9cc28cf3fdcf",
   "metadata": {},
   "outputs": [
    {
     "data": {
      "text/html": [
       "<div>\n",
       "<style scoped>\n",
       "    .dataframe tbody tr th:only-of-type {\n",
       "        vertical-align: middle;\n",
       "    }\n",
       "\n",
       "    .dataframe tbody tr th {\n",
       "        vertical-align: top;\n",
       "    }\n",
       "\n",
       "    .dataframe thead th {\n",
       "        text-align: right;\n",
       "    }\n",
       "</style>\n",
       "<table border=\"1\" class=\"dataframe\">\n",
       "  <thead>\n",
       "    <tr style=\"text-align: right;\">\n",
       "      <th></th>\n",
       "      <th>0</th>\n",
       "    </tr>\n",
       "  </thead>\n",
       "  <tbody>\n",
       "    <tr>\n",
       "      <th>count</th>\n",
       "      <td>213.000000</td>\n",
       "    </tr>\n",
       "    <tr>\n",
       "      <th>mean</th>\n",
       "      <td>32579.727700</td>\n",
       "    </tr>\n",
       "    <tr>\n",
       "      <th>std</th>\n",
       "      <td>69051.299984</td>\n",
       "    </tr>\n",
       "    <tr>\n",
       "      <th>min</th>\n",
       "      <td>11.000000</td>\n",
       "    </tr>\n",
       "    <tr>\n",
       "      <th>25%</th>\n",
       "      <td>1428.000000</td>\n",
       "    </tr>\n",
       "    <tr>\n",
       "      <th>50%</th>\n",
       "      <td>7769.000000</td>\n",
       "    </tr>\n",
       "    <tr>\n",
       "      <th>75%</th>\n",
       "      <td>26295.000000</td>\n",
       "    </tr>\n",
       "    <tr>\n",
       "      <th>max</th>\n",
       "      <td>398934.000000</td>\n",
       "    </tr>\n",
       "  </tbody>\n",
       "</table>\n",
       "</div>"
      ],
      "text/plain": [
       "                   0\n",
       "count     213.000000\n",
       "mean    32579.727700\n",
       "std     69051.299984\n",
       "min        11.000000\n",
       "25%      1428.000000\n",
       "50%      7769.000000\n",
       "75%     26295.000000\n",
       "max    398934.000000"
      ]
     },
     "execution_count": 23,
     "metadata": {},
     "output_type": "execute_result"
    }
   ],
   "source": [
    "import pandas as pd\n",
    "\n",
    "tripCountsDF = pd.DataFrame(tripCounts)\n",
    "tripCountsDF.describe()"
   ]
  },
  {
   "cell_type": "code",
   "execution_count": 24,
   "id": "d00ae33d-4b1f-4758-b9be-3c28b4ae6a96",
   "metadata": {},
   "outputs": [
    {
     "data": {
      "text/plain": [
       "[]"
      ]
     },
     "execution_count": 24,
     "metadata": {},
     "output_type": "execute_result"
    },
    {
     "data": {
      "image/png": "[encoded data removed]",
      "text/plain": [
       "<Figure size 640x480 with 1 Axes>"
      ]
     },
     "metadata": {},
     "output_type": "display_data"
    }
   ],
   "source": [
    "import seaborn as sns\n",
    "\n",
    "boxplot = sns.violinplot(tripCountsDF, orient='h')\n",
    "boxplot.set_xlabel(\"Total Trips\")\n",
    "boxplot.set_yticks([])"
   ]
  },
  {
   "cell_type": "markdown",
   "id": "b40eaf51-d778-4964-8791-4c4070d86881",
   "metadata": {},
   "source": [
    "# Top 10 Companies"
   ]
  },
  {
   "cell_type": "code",
   "execution_count": 27,
   "id": "5a9a7fed-3fac-4c19-86ea-cb2867a30abe",
   "metadata": {},
   "outputs": [],
   "source": [
    "top10 = result[:10]"
   ]
  },
  {
   "cell_type": "code",
   "execution_count": null,
   "id": "22d5f5a7-dd57-42bf-ae00-37d9e91b8f8e",
   "metadata": {},
   "outputs": [],
   "source": [
    "import requests\n",
    "\n",
    "def GetCompanyByCNPJ(cnpj):\n",
    "    "
   ]
  },
  {
   "cell_type": "code",
   "execution_count": 28,
   "id": "4ec18557-1830-45d4-a628-cc53021bfbae",
   "metadata": {},
   "outputs": [
    {
     "data": {
      "text/plain": [
       "[('82647884000135', 398934),\n",
       " ('23542573000142', 366545),\n",
       " ('27486182000109', 364595),\n",
       " ('61084018000103', 359355),\n",
       " ('16624611000140', 350344),\n",
       " ('78586674000107', 287915),\n",
       " ('41550112000101', 286368),\n",
       " ('30069314000101', 244937),\n",
       " ('76539600000194', 176269),\n",
       " ('10788677000190', 170269)]"
      ]
     },
     "execution_count": 28,
     "metadata": {},
     "output_type": "execute_result"
    }
   ],
   "source": [
    "top10"
   ]
  },
  {
   "cell_type": "markdown",
   "id": "40fb89fa-20fe-4afc-9236-f69d4dfdbaa2",
   "metadata": {},
   "source": [
    "# Distinct lines per company"
   ]
  },
  {
   "cell_type": "code",
   "execution_count": 10,
   "id": "7de401de-c9a5-4fcb-9234-25cf3b7eca38",
   "metadata": {},
   "outputs": [],
   "source": [
    "query = \"\"\"\n",
    "    SELECT \n",
    "        cnpj as cnpj, COUNT(DISTINCT line) as totalLines\n",
    "    FROM\n",
    "        regulartrips\n",
    "    GROUP BY\n",
    "        cnpj\n",
    "    ORDER BY totalLines DESC;\n",
    "\"\"\"\n",
    "cur.execute(query)"
   ]
  },
  {
   "cell_type": "code",
   "execution_count": 11,
   "id": "48050ddd-daa0-4cca-bce1-b84ec131689f",
   "metadata": {},
   "outputs": [],
   "source": [
    "result = cur.fetchall()"
   ]
  },
  {
   "cell_type": "code",
   "execution_count": 12,
   "id": "90cb8d82-983e-4866-8ccb-1f0347020c53",
   "metadata": {},
   "outputs": [
    {
     "data": {
      "text/html": [
       "<div>\n",
       "<style scoped>\n",
       "    .dataframe tbody tr th:only-of-type {\n",
       "        vertical-align: middle;\n",
       "    }\n",
       "\n",
       "    .dataframe tbody tr th {\n",
       "        vertical-align: top;\n",
       "    }\n",
       "\n",
       "    .dataframe thead th {\n",
       "        text-align: right;\n",
       "    }\n",
       "</style>\n",
       "<table border=\"1\" class=\"dataframe\">\n",
       "  <thead>\n",
       "    <tr style=\"text-align: right;\">\n",
       "      <th></th>\n",
       "      <th>1</th>\n",
       "    </tr>\n",
       "  </thead>\n",
       "  <tbody>\n",
       "    <tr>\n",
       "      <th>count</th>\n",
       "      <td>213.000000</td>\n",
       "    </tr>\n",
       "    <tr>\n",
       "      <th>mean</th>\n",
       "      <td>31.572770</td>\n",
       "    </tr>\n",
       "    <tr>\n",
       "      <th>std</th>\n",
       "      <td>62.095564</td>\n",
       "    </tr>\n",
       "    <tr>\n",
       "      <th>min</th>\n",
       "      <td>1.000000</td>\n",
       "    </tr>\n",
       "    <tr>\n",
       "      <th>25%</th>\n",
       "      <td>4.000000</td>\n",
       "    </tr>\n",
       "    <tr>\n",
       "      <th>50%</th>\n",
       "      <td>8.000000</td>\n",
       "    </tr>\n",
       "    <tr>\n",
       "      <th>75%</th>\n",
       "      <td>26.000000</td>\n",
       "    </tr>\n",
       "    <tr>\n",
       "      <th>max</th>\n",
       "      <td>448.000000</td>\n",
       "    </tr>\n",
       "  </tbody>\n",
       "</table>\n",
       "</div>"
      ],
      "text/plain": [
       "                1\n",
       "count  213.000000\n",
       "mean    31.572770\n",
       "std     62.095564\n",
       "min      1.000000\n",
       "25%      4.000000\n",
       "50%      8.000000\n",
       "75%     26.000000\n",
       "max    448.000000"
      ]
     },
     "execution_count": 12,
     "metadata": {},
     "output_type": "execute_result"
    }
   ],
   "source": [
    "import pandas as pd\n",
    "\n",
    "lineCountDF = pd.DataFrame(result)\n",
    "lineCountDF.describe()"
   ]
  },
  {
   "cell_type": "code",
   "execution_count": 14,
   "id": "0286f125-fa57-4fb7-b2f6-318fe05bdc70",
   "metadata": {},
   "outputs": [
    {
     "data": {
      "text/plain": [
       "[]"
      ]
     },
     "execution_count": 14,
     "metadata": {},
     "output_type": "execute_result"
    },
    {
     "data": {
      "image/png": "[encoded data removed]",
      "text/plain": [
       "<Figure size 640x480 with 1 Axes>"
      ]
     },
     "metadata": {},
     "output_type": "display_data"
    }
   ],
   "source": [
    "import seaborn as sns\n",
    "\n",
    "boxplot = sns.violinplot(lineCountDF, orient='h')\n",
    "boxplot.set_xlabel(\"Total Trips\")\n",
    "boxplot.set_yticks([])"
   ]
  },
  {
   "cell_type": "markdown",
   "id": "f216be06-f906-484a-a63d-b5e68a57a01d",
   "metadata": {},
   "source": [
    "# Number of vehicles per company"
   ]
  },
  {
   "cell_type": "code",
   "execution_count": 15,
   "id": "c54903bb-ece8-44f4-98e6-89660934adec",
   "metadata": {},
   "outputs": [],
   "source": [
    "query = \"\"\"\n",
    "    SELECT \n",
    "        cnpj as cnpj, COUNT(DISTINCT plate) as totalVehicles\n",
    "    FROM\n",
    "        regulartrips\n",
    "    GROUP BY\n",
    "        cnpj\n",
    "    ORDER BY totalVehicles DESC;\n",
    "\"\"\"\n",
    "cur.execute(query)"
   ]
  },
  {
   "cell_type": "code",
   "execution_count": 16,
   "id": "a054ef08-5407-446b-81b7-037a08b3e524",
   "metadata": {},
   "outputs": [],
   "source": [
    "result = cur.fetchall()"
   ]
  },
  {
   "cell_type": "code",
   "execution_count": 17,
   "id": "828cfce7-bea0-44d9-b9ff-a4a0970db0ac",
   "metadata": {},
   "outputs": [
    {
     "data": {
      "text/html": [
       "<div>\n",
       "<style scoped>\n",
       "    .dataframe tbody tr th:only-of-type {\n",
       "        vertical-align: middle;\n",
       "    }\n",
       "\n",
       "    .dataframe tbody tr th {\n",
       "        vertical-align: top;\n",
       "    }\n",
       "\n",
       "    .dataframe thead th {\n",
       "        text-align: right;\n",
       "    }\n",
       "</style>\n",
       "<table border=\"1\" class=\"dataframe\">\n",
       "  <thead>\n",
       "    <tr style=\"text-align: right;\">\n",
       "      <th></th>\n",
       "      <th>1</th>\n",
       "    </tr>\n",
       "  </thead>\n",
       "  <tbody>\n",
       "    <tr>\n",
       "      <th>count</th>\n",
       "      <td>213.000000</td>\n",
       "    </tr>\n",
       "    <tr>\n",
       "      <th>mean</th>\n",
       "      <td>160.446009</td>\n",
       "    </tr>\n",
       "    <tr>\n",
       "      <th>std</th>\n",
       "      <td>304.313801</td>\n",
       "    </tr>\n",
       "    <tr>\n",
       "      <th>min</th>\n",
       "      <td>2.000000</td>\n",
       "    </tr>\n",
       "    <tr>\n",
       "      <th>25%</th>\n",
       "      <td>15.000000</td>\n",
       "    </tr>\n",
       "    <tr>\n",
       "      <th>50%</th>\n",
       "      <td>34.000000</td>\n",
       "    </tr>\n",
       "    <tr>\n",
       "      <th>75%</th>\n",
       "      <td>164.000000</td>\n",
       "    </tr>\n",
       "    <tr>\n",
       "      <th>max</th>\n",
       "      <td>1916.000000</td>\n",
       "    </tr>\n",
       "  </tbody>\n",
       "</table>\n",
       "</div>"
      ],
      "text/plain": [
       "                 1\n",
       "count   213.000000\n",
       "mean    160.446009\n",
       "std     304.313801\n",
       "min       2.000000\n",
       "25%      15.000000\n",
       "50%      34.000000\n",
       "75%     164.000000\n",
       "max    1916.000000"
      ]
     },
     "execution_count": 17,
     "metadata": {},
     "output_type": "execute_result"
    }
   ],
   "source": [
    "import pandas as pd\n",
    "\n",
    "lineCountDF = pd.DataFrame(result)\n",
    "lineCountDF.describe()"
   ]
  },
  {
   "cell_type": "code",
   "execution_count": 18,
   "id": "631d3ea0-e508-4827-895b-8f3b21d8cc85",
   "metadata": {},
   "outputs": [
    {
     "data": {
      "text/plain": [
       "[]"
      ]
     },
     "execution_count": 18,
     "metadata": {},
     "output_type": "execute_result"
    },
    {
     "data": {
      "image/png": "[encoded data removed]",
      "text/plain": [
       "<Figure size 640x480 with 1 Axes>"
      ]
     },
     "metadata": {},
     "output_type": "display_data"
    }
   ],
   "source": [
    "import seaborn as sns\n",
    "\n",
    "boxplot = sns.violinplot(lineCountDF, orient='h')\n",
    "boxplot.set_xlabel(\"Total Trips\")\n",
    "boxplot.set_yticks([])"
   ]
  },
  {
   "cell_type": "code",
   "execution_count": null,
   "id": "4446d045-a2a2-4909-80a7-f911a737ef60",
   "metadata": {},
   "outputs": [],
   "source": []
  }
 ],
 "metadata": {
  "kernelspec": {
   "display_name": "Python 3 (ipykernel)",
   "language": "python",
   "name": "python3"
  },
  "language_info": {
   "codemirror_mode": {
    "name": "ipython",
    "version": 3
   },
   "file_extension": ".py",
   "mimetype": "text/x-python",
   "name": "python",
   "nbconvert_exporter": "python",
   "pygments_lexer": "ipython3",
   "version": "3.12.3"
  }
 },
 "nbformat": 4,
 "nbformat_minor": 5
}

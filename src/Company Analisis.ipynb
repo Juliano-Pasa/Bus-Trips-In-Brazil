{
 "cells": [
  {
   "cell_type": "markdown",
   "id": "9611a57c-062d-4341-8c09-2a06b21b07c8",
   "metadata": {},
   "source": [
    "# Connect to DB"
   ]
  },
  {
   "cell_type": "code",
   "execution_count": 1,
   "id": "da7f81cd-136f-46e2-82b2-50d3778700c0",
   "metadata": {},
   "outputs": [],
   "source": [
    "import os\n",
    "import psycopg2\n",
    "\n",
    "conn = psycopg2.connect(host='localhost', port=5432, dbname='ANTT', user=os.environ[\"PGDBUSER\"], password=os.environ[\"PGDBPASSWORD\"])\n",
    "cur = conn.cursor()"
   ]
  },
  {
   "cell_type": "markdown",
   "id": "81aa09ab-7f40-4e95-840b-a949ef036b89",
   "metadata": {},
   "source": [
    "# Company counts"
   ]
  },
  {
   "cell_type": "code",
   "execution_count": 7,
   "id": "cd93d60c-abf3-470e-abba-05ea8a0c9797",
   "metadata": {},
   "outputs": [],
   "source": [
    "query = \"\"\"\n",
    "    SELECT \n",
    "        cnpj, COUNT(1) as totalTrips\n",
    "    FROM\n",
    "        regulartrips\n",
    "    GROUP BY\n",
    "        cnpj\n",
    "    ORDER BY totalTrips DESC;\n",
    "\"\"\"\n",
    "cur.execute(query)"
   ]
  },
  {
   "cell_type": "code",
   "execution_count": 8,
   "id": "42431b60-9a4e-4203-9f1a-124115e426d1",
   "metadata": {},
   "outputs": [],
   "source": [
    "result = cur.fetchall()"
   ]
  },
  {
   "cell_type": "code",
   "execution_count": 16,
   "id": "06fae707-bd74-4fd6-b9bc-5208d06fefd7",
   "metadata": {},
   "outputs": [],
   "source": [
    "import numpy as np\n",
    "\n",
    "totalCompanies = len(result)\n",
    "tripCounts = [entry[1] for entry in result]\n",
    "tripCounts = np.asarray(tripCounts)"
   ]
  },
  {
   "cell_type": "code",
   "execution_count": 17,
   "id": "c6d7deb8-24ca-4519-8bad-c2d9e317bb5c",
   "metadata": {},
   "outputs": [
    {
     "name": "stdout",
     "output_type": "stream",
     "text": [
      "213\n"
     ]
    }
   ],
   "source": [
    "print(totalCompanies)"
   ]
  },
  {
   "cell_type": "code",
   "execution_count": 22,
   "id": "346e1838-883d-42a4-bdf9-9cc28cf3fdcf",
   "metadata": {},
   "outputs": [
    {
     "data": {
      "text/html": [
       "<div>\n",
       "<style scoped>\n",
       "    .dataframe tbody tr th:only-of-type {\n",
       "        vertical-align: middle;\n",
       "    }\n",
       "\n",
       "    .dataframe tbody tr th {\n",
       "        vertical-align: top;\n",
       "    }\n",
       "\n",
       "    .dataframe thead th {\n",
       "        text-align: right;\n",
       "    }\n",
       "</style>\n",
       "<table border=\"1\" class=\"dataframe\">\n",
       "  <thead>\n",
       "    <tr style=\"text-align: right;\">\n",
       "      <th></th>\n",
       "      <th>0</th>\n",
       "    </tr>\n",
       "  </thead>\n",
       "  <tbody>\n",
       "    <tr>\n",
       "      <th>count</th>\n",
       "      <td>213.000000</td>\n",
       "    </tr>\n",
       "    <tr>\n",
       "      <th>mean</th>\n",
       "      <td>32579.727700</td>\n",
       "    </tr>\n",
       "    <tr>\n",
       "      <th>std</th>\n",
       "      <td>69051.299984</td>\n",
       "    </tr>\n",
       "    <tr>\n",
       "      <th>min</th>\n",
       "      <td>11.000000</td>\n",
       "    </tr>\n",
       "    <tr>\n",
       "      <th>25%</th>\n",
       "      <td>1428.000000</td>\n",
       "    </tr>\n",
       "    <tr>\n",
       "      <th>50%</th>\n",
       "      <td>7769.000000</td>\n",
       "    </tr>\n",
       "    <tr>\n",
       "      <th>75%</th>\n",
       "      <td>26295.000000</td>\n",
       "    </tr>\n",
       "    <tr>\n",
       "      <th>max</th>\n",
       "      <td>398934.000000</td>\n",
       "    </tr>\n",
       "  </tbody>\n",
       "</table>\n",
       "</div>"
      ],
      "text/plain": [
       "                   0\n",
       "count     213.000000\n",
       "mean    32579.727700\n",
       "std     69051.299984\n",
       "min        11.000000\n",
       "25%      1428.000000\n",
       "50%      7769.000000\n",
       "75%     26295.000000\n",
       "max    398934.000000"
      ]
     },
     "execution_count": 22,
     "metadata": {},
     "output_type": "execute_result"
    }
   ],
   "source": [
    "import pandas as pd\n",
    "\n",
    "tripCountsDF = pd.DataFrame(tripCounts)\n",
    "tripCountsDF.describe()"
   ]
  },
  {
   "cell_type": "markdown",
   "id": "58212264-c2db-4b7f-9324-7219de9672c5",
   "metadata": {},
   "source": [
    "# Violin plot of trips per company"
   ]
  },
  {
   "cell_type": "code",
   "execution_count": 42,
   "id": "d00ae33d-4b1f-4758-b9be-3c28b4ae6a96",
   "metadata": {},
   "outputs": [
    {
     "data": {
      "text/plain": [
       "[]"
      ]
     },
     "execution_count": 42,
     "metadata": {},
     "output_type": "execute_result"
    },
    {
     "data": {
      "image/png": "[encoded data removed]",
      "text/plain": [
       "<Figure size 640x480 with 1 Axes>"
      ]
     },
     "metadata": {},
     "output_type": "display_data"
    }
   ],
   "source": [
    "import seaborn as sns\n",
    "\n",
    "boxplot = sns.violinplot(tripCountsDF, orient='h')\n",
    "boxplot.set_xlabel(\"Total Trips\")\n",
    "boxplot.set_yticks([])"
   ]
  }
 ],
 "metadata": {
  "kernelspec": {
   "display_name": "Python 3 (ipykernel)",
   "language": "python",
   "name": "python3"
  },
  "language_info": {
   "codemirror_mode": {
    "name": "ipython",
    "version": 3
   },
   "file_extension": ".py",
   "mimetype": "text/x-python",
   "name": "python",
   "nbconvert_exporter": "python",
   "pygments_lexer": "ipython3",
   "version": "3.12.3"
  }
 },
 "nbformat": 4,
 "nbformat_minor": 5
}

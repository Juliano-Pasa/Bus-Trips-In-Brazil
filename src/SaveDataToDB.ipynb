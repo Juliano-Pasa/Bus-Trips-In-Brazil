{
 "cells": [
  {
   "cell_type": "code",
   "execution_count": 13,
   "id": "21e15dca-9656-4860-8c39-ec0dd760faaa",
   "metadata": {},
   "outputs": [],
   "source": [
    "import sqlite3\n",
    "\n",
    "con = sqlite3.connect(\"../data/db/ANTTOpenData.db\")\n",
    "cur = con.cursor()"
   ]
  },
  {
   "cell_type": "code",
   "execution_count": 7,
   "id": "e85edd08-883f-451c-9cde-f80252d04b94",
   "metadata": {},
   "outputs": [
    {
     "ename": "OperationalError",
     "evalue": "table RegularTrips already exists",
     "output_type": "error",
     "traceback": [
      "\u001b[31m---------------------------------------------------------------------------\u001b[39m",
      "\u001b[31mOperationalError\u001b[39m                          Traceback (most recent call last)",
      "\u001b[36mCell\u001b[39m\u001b[36m \u001b[39m\u001b[32mIn[7]\u001b[39m\u001b[32m, line 3\u001b[39m\n\u001b[32m      1\u001b[39m cur = con.cursor()\n\u001b[32m----> \u001b[39m\u001b[32m3\u001b[39m \u001b[43mcur\u001b[49m\u001b[43m.\u001b[49m\u001b[43mexecute\u001b[49m\u001b[43m(\u001b[49m\u001b[33;43m\"\u001b[39;49m\u001b[33;43mCREATE TABLE RegularTrips(id, cnpj, plate, line, tripType, expectedTripDate, expectedTripHour, tripStartDate, tripEndDate, lineDirection, latitude, longitude, pdop, imei, transbordo, transbordoCode)\u001b[39;49m\u001b[33;43m\"\u001b[39;49m\u001b[43m)\u001b[49m\n",
      "\u001b[31mOperationalError\u001b[39m: table RegularTrips already exists"
     ]
    }
   ],
   "source": [
    "cur.execute(\"CREATE TABLE RegularTrips(id, cnpj, plate, line, tripType, expectedTripDate, expectedTripHour, tripStartDate, tripEndDate, lineDirection, latitude, longitude, pdop, imei, transbordo, transbordoCode)\")"
   ]
  },
  {
   "cell_type": "code",
   "execution_count": 14,
   "id": "f9f5232b-5f2b-41c6-b0e5-7e349e4e114c",
   "metadata": {},
   "outputs": [
    {
     "data": {
      "text/plain": [
       "('RegularTrips',)"
      ]
     },
     "execution_count": 14,
     "metadata": {},
     "output_type": "execute_result"
    }
   ],
   "source": [
    "res = cur.execute(\"SELECT name FROM sqlite_master\")\n",
    "res.fetchone()"
   ]
  },
  {
   "cell_type": "code",
   "execution_count": 15,
   "id": "122c3293-8f4f-4e4c-859e-3cf3e4ede71b",
   "metadata": {},
   "outputs": [],
   "source": [
    "con.close()"
   ]
  },
  {
   "cell_type": "code",
   "execution_count": 31,
   "id": "2833d44a-a6a0-4578-ad79-6ac322cd2367",
   "metadata": {},
   "outputs": [
    {
     "name": "stdout",
     "output_type": "stream",
     "text": [
      "/home/juliano/projects/Bus-Trips-In-Brazil/src/../data/files/\n"
     ]
    }
   ],
   "source": [
    "from os import listdir\n",
    "from os.path import isfile, join\n",
    "import pandas as pd\n",
    "\n",
    "pathPrefix = \"../data/files/\"\n",
    "dataPath = os.getcwd() + \"/\" + pathPrefix\n",
    "print(dataPath)\n",
    "\n",
    "files = [f for f in listdir(dataPath) if isfile(join(dataPath, f))]"
   ]
  },
  {
   "cell_type": "code",
   "execution_count": 37,
   "id": "e2498f97-d5ce-4b4d-ad17-d565bbdb016b",
   "metadata": {},
   "outputs": [
    {
     "name": "stdout",
     "output_type": "stream",
     "text": [
      "viagem_regular_10_2022.csv {'encoding': 'Windows-1252', 'language': 'Portuguese', 'confidence': 1.0}\n"
     ]
    }
   ],
   "source": [
    "import charset_normalizer\n",
    "\n",
    "firstFile = files[0]\n",
    "with open(pathPrefix + firstFile, 'rb') as rawdata:\n",
    "    result = charset_normalizer.detect(rawdata.read(10000))\n",
    "\n",
    "print(firstFile, result)"
   ]
  },
  {
   "cell_type": "code",
   "execution_count": 43,
   "id": "5d1139b7-1fde-43b6-9b23-fc68b8ce1bb8",
   "metadata": {},
   "outputs": [
    {
     "data": {
      "text/html": [
       "<div>\n",
       "<style scoped>\n",
       "    .dataframe tbody tr th:only-of-type {\n",
       "        vertical-align: middle;\n",
       "    }\n",
       "\n",
       "    .dataframe tbody tr th {\n",
       "        vertical-align: top;\n",
       "    }\n",
       "\n",
       "    .dataframe thead th {\n",
       "        text-align: right;\n",
       "    }\n",
       "</style>\n",
       "<table border=\"1\" class=\"dataframe\">\n",
       "  <thead>\n",
       "    <tr style=\"text-align: right;\">\n",
       "      <th></th>\n",
       "      <th>codigo_viagem</th>\n",
       "      <th>cnpj</th>\n",
       "      <th>placa</th>\n",
       "      <th>nu_linha</th>\n",
       "      <th>tipo_viagem</th>\n",
       "      <th>data_viagem_programada</th>\n",
       "      <th>hora_viagem_programada</th>\n",
       "      <th>data_inicio_viagem</th>\n",
       "      <th>data_fim_viagem</th>\n",
       "      <th>sentido_linha</th>\n",
       "      <th>latitude</th>\n",
       "      <th>longitude</th>\n",
       "      <th>pdop</th>\n",
       "      <th>numero_imei</th>\n",
       "      <th>in_transbordo</th>\n",
       "      <th>codigo_viagem_transbordo</th>\n",
       "    </tr>\n",
       "  </thead>\n",
       "  <tbody>\n",
       "    <tr>\n",
       "      <th>0</th>\n",
       "      <td>5105552</td>\n",
       "      <td>78586674000107</td>\n",
       "      <td>SDS0J21</td>\n",
       "      <td>19008551</td>\n",
       "      <td>0</td>\n",
       "      <td>13-10-2022</td>\n",
       "      <td>18:30:00</td>\n",
       "      <td>13-10-2022 17:35:52</td>\n",
       "      <td>14-10-2022 11:09:00</td>\n",
       "      <td>0</td>\n",
       "      <td>-22.228829</td>\n",
       "      <td>-54.772912</td>\n",
       "      <td>0.0</td>\n",
       "      <td>7223b45b6a79c34</td>\n",
       "      <td>NÃO</td>\n",
       "      <td>NaN</td>\n",
       "    </tr>\n",
       "    <tr>\n",
       "      <th>1</th>\n",
       "      <td>5105563</td>\n",
       "      <td>78586674000107</td>\n",
       "      <td>SDQ9G47</td>\n",
       "      <td>09039031</td>\n",
       "      <td>0</td>\n",
       "      <td>13-10-2022</td>\n",
       "      <td>18:45:00</td>\n",
       "      <td>13-10-2022 18:43:31</td>\n",
       "      <td>13-10-2022 19:52:31</td>\n",
       "      <td>1</td>\n",
       "      <td>-22.979963</td>\n",
       "      <td>-49.902584</td>\n",
       "      <td>0.0</td>\n",
       "      <td>353028105417459</td>\n",
       "      <td>NÃO</td>\n",
       "      <td>NaN</td>\n",
       "    </tr>\n",
       "    <tr>\n",
       "      <th>2</th>\n",
       "      <td>5105564</td>\n",
       "      <td>78586674000107</td>\n",
       "      <td>BCY9I92</td>\n",
       "      <td>09039031</td>\n",
       "      <td>0</td>\n",
       "      <td>13-10-2022</td>\n",
       "      <td>18:50:00</td>\n",
       "      <td>13-10-2022 17:58:29</td>\n",
       "      <td>13-10-2022 19:50:04</td>\n",
       "      <td>0</td>\n",
       "      <td>-23.045506</td>\n",
       "      <td>-50.230369</td>\n",
       "      <td>0.0</td>\n",
       "      <td>353028105432078</td>\n",
       "      <td>NÃO</td>\n",
       "      <td>NaN</td>\n",
       "    </tr>\n",
       "    <tr>\n",
       "      <th>3</th>\n",
       "      <td>5105566</td>\n",
       "      <td>78586674000107</td>\n",
       "      <td>BCF5549</td>\n",
       "      <td>09014451</td>\n",
       "      <td>0</td>\n",
       "      <td>13-10-2022</td>\n",
       "      <td>19:00:00</td>\n",
       "      <td>13-10-2022 18:21:21</td>\n",
       "      <td>14-10-2022 08:40:15</td>\n",
       "      <td>1</td>\n",
       "      <td>-23.933118</td>\n",
       "      <td>-46.334373</td>\n",
       "      <td>0.0</td>\n",
       "      <td>f9e7972384824e9</td>\n",
       "      <td>NÃO</td>\n",
       "      <td>NaN</td>\n",
       "    </tr>\n",
       "    <tr>\n",
       "      <th>4</th>\n",
       "      <td>5105574</td>\n",
       "      <td>78586674000107</td>\n",
       "      <td>RHX7E78</td>\n",
       "      <td>09014451</td>\n",
       "      <td>0</td>\n",
       "      <td>13-10-2022</td>\n",
       "      <td>19:00:00</td>\n",
       "      <td>13-10-2022 16:54:36</td>\n",
       "      <td>14-10-2022 07:55:37</td>\n",
       "      <td>0</td>\n",
       "      <td>-22.980955</td>\n",
       "      <td>-49.902951</td>\n",
       "      <td>0.0</td>\n",
       "      <td>39199bf35f3e3a8</td>\n",
       "      <td>NÃO</td>\n",
       "      <td>NaN</td>\n",
       "    </tr>\n",
       "  </tbody>\n",
       "</table>\n",
       "</div>"
      ],
      "text/plain": [
       "  codigo_viagem            cnpj    placa  nu_linha tipo_viagem  \\\n",
       "0       5105552  78586674000107  SDS0J21  19008551           0   \n",
       "1       5105563  78586674000107  SDQ9G47  09039031           0   \n",
       "2       5105564  78586674000107  BCY9I92  09039031           0   \n",
       "3       5105566  78586674000107  BCF5549  09014451           0   \n",
       "4       5105574  78586674000107  RHX7E78  09014451           0   \n",
       "\n",
       "  data_viagem_programada hora_viagem_programada   data_inicio_viagem  \\\n",
       "0             13-10-2022               18:30:00  13-10-2022 17:35:52   \n",
       "1             13-10-2022               18:45:00  13-10-2022 18:43:31   \n",
       "2             13-10-2022               18:50:00  13-10-2022 17:58:29   \n",
       "3             13-10-2022               19:00:00  13-10-2022 18:21:21   \n",
       "4             13-10-2022               19:00:00  13-10-2022 16:54:36   \n",
       "\n",
       "       data_fim_viagem sentido_linha   latitude  longitude  pdop  \\\n",
       "0  14-10-2022 11:09:00             0 -22.228829 -54.772912   0.0   \n",
       "1  13-10-2022 19:52:31             1 -22.979963 -49.902584   0.0   \n",
       "2  13-10-2022 19:50:04             0 -23.045506 -50.230369   0.0   \n",
       "3  14-10-2022 08:40:15             1 -23.933118 -46.334373   0.0   \n",
       "4  14-10-2022 07:55:37             0 -22.980955 -49.902951   0.0   \n",
       "\n",
       "       numero_imei in_transbordo codigo_viagem_transbordo  \n",
       "0  7223b45b6a79c34           NÃO                      NaN  \n",
       "1  353028105417459           NÃO                      NaN  \n",
       "2  353028105432078           NÃO                      NaN  \n",
       "3  f9e7972384824e9           NÃO                      NaN  \n",
       "4  39199bf35f3e3a8           NÃO                      NaN  "
      ]
     },
     "execution_count": 43,
     "metadata": {},
     "output_type": "execute_result"
    }
   ],
   "source": [
    "import numpy as np\n",
    "\n",
    "colTypes = {'codigo_viagem':'str', \n",
    "            'cnpj':'str',\n",
    "            'placa':'str',\n",
    "            'nu_linha':'str',            \n",
    "            'tipo_viagem':'str',\n",
    "            'data_viagem_programada':'str',\n",
    "            'hora_viagem_programada':'str',\n",
    "            'data_inicio_viagem':'str',\n",
    "            'data_fim_viagem':'str',\n",
    "            'sentido_linha':'str',\n",
    "            'latitude':np.float64,\n",
    "            'longitude':np.float64,\n",
    "            'pdop':np.float64,\n",
    "            'numero_imei':'str',\n",
    "            'in_transbordo':'str',\n",
    "            'codigo_viagem_transbordo':'str'\n",
    "           }\n",
    "\n",
    "df = pd.read_csv(pathPrefix + firstFile, encoding=result['encoding'], delimiter=';', header=0, dtype=colTypes)\n",
    "df.head()"
   ]
  },
  {
   "cell_type": "code",
   "execution_count": 36,
   "id": "0e46b347-8997-4de0-8d6f-6035f7310fbd",
   "metadata": {},
   "outputs": [
    {
     "data": {
      "text/plain": [
       "codigo_viagem                 int64\n",
       "cnpj                          int64\n",
       "placa                        object\n",
       "nu_linha                      int64\n",
       "tipo_viagem                   int64\n",
       "data_viagem_programada       object\n",
       "hora_viagem_programada       object\n",
       "data_inicio_viagem           object\n",
       "data_fim_viagem              object\n",
       "sentido_linha                 int64\n",
       "latitude                    float64\n",
       "longitude                   float64\n",
       "pdop                        float64\n",
       "numero_imei                  object\n",
       "in_transbordo                object\n",
       "codigo_viagem_transbordo    float64\n",
       "dtype: object"
      ]
     },
     "execution_count": 36,
     "metadata": {},
     "output_type": "execute_result"
    }
   ],
   "source": [
    "df.dtypes"
   ]
  }
 ],
 "metadata": {
  "kernelspec": {
   "display_name": "Python 3 (ipykernel)",
   "language": "python",
   "name": "python3"
  },
  "language_info": {
   "codemirror_mode": {
    "name": "ipython",
    "version": 3
   },
   "file_extension": ".py",
   "mimetype": "text/x-python",
   "name": "python",
   "nbconvert_exporter": "python",
   "pygments_lexer": "ipython3",
   "version": "3.12.3"
  }
 },
 "nbformat": 4,
 "nbformat_minor": 5
}

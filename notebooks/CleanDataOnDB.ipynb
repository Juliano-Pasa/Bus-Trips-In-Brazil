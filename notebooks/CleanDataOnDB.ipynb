{
 "cells": [
  {
   "cell_type": "markdown",
   "id": "965bd28c-18a3-4bba-9546-72c436097dbc",
   "metadata": {},
   "source": [
    "# Imports"
   ]
  },
  {
   "cell_type": "code",
   "execution_count": 1,
   "id": "50744e16-d3ce-4de9-8681-145ecfb1ac82",
   "metadata": {},
   "outputs": [],
   "source": [
    "from buspkg import DBFunctions as db\n",
    "import pandas as pd"
   ]
  },
  {
   "cell_type": "markdown",
   "id": "16872daa-9050-4b1f-9602-f38849dc7850",
   "metadata": {},
   "source": [
    "# Connect to DB"
   ]
  },
  {
   "cell_type": "code",
   "execution_count": 2,
   "id": "5c538483-517d-414e-a292-7a67b92b8310",
   "metadata": {},
   "outputs": [],
   "source": [
    "conn = db.GetDefaultConnection()\n",
    "cur = conn.cursor()"
   ]
  },
  {
   "cell_type": "markdown",
   "id": "4796c5d3-2b91-4ea6-bac7-20102a1c2bf9",
   "metadata": {},
   "source": [
    "## Removing Ghost Trips"
   ]
  },
  {
   "cell_type": "markdown",
   "id": "15c2e23a-6302-4f11-bbe0-675de86edf82",
   "metadata": {},
   "source": [
    "Ghost trips are defined as trips that are impossible to have happened. The dataset has lots of records of the same bus at the same time, either to the same place or different. Since we are only interested in the actual trips that happened, we do not care about the reason why these ghost trips were registered in the database.\n",
    "\n",
    "It was decided that only the last entry of a ghost trip would be kept in the database, even if it does not represent the trip that actually occured."
   ]
  },
  {
   "cell_type": "markdown",
   "id": "2d58c816-3db8-4c42-b45d-cd86d3044f8f",
   "metadata": {},
   "source": [
    "### Understanding ghost trips"
   ]
  },
  {
   "cell_type": "code",
   "execution_count": 3,
   "id": "2538d7d1-aff8-4e24-8488-ca3845e52c2d",
   "metadata": {},
   "outputs": [],
   "source": [
    "query = \"\"\"\n",
    "    SELECT\n",
    "        cnpj, plate, tripstartdatetime, COUNT(1) as c\n",
    "    FROM \n",
    "        regulartrips\n",
    "    GROUP BY\n",
    "        tripstartdatetime, cnpj, plate, triptype\n",
    "    HAVING\n",
    "        COUNT(1) > 1\n",
    "    ORDER BY\n",
    "        c DESC\n",
    "    LIMIT\n",
    "        10;\n",
    "\"\"\"\n",
    "\n",
    "db.ExecuteQuery(query, cur, conn)\n",
    "result = cur.fetchall()"
   ]
  },
  {
   "cell_type": "markdown",
   "id": "64528184-381b-466e-ad51-a36f48d1e038",
   "metadata": {},
   "source": [
    "As an example of ghost trips, we can see in the query result that the bus with plate `SHN3I44` performed **15 trips** starting at the same date and time. So, after removing ghost trips, only the record with the highest ID will be kept in the database."
   ]
  },
  {
   "cell_type": "code",
   "execution_count": 4,
   "id": "878829dd-833c-4c33-9fee-48725e023b92",
   "metadata": {},
   "outputs": [
    {
     "data": {
      "text/plain": [
       "[('23542573000142', 'SHN3I44', datetime.datetime(2024, 11, 3, 19, 0, 58), 15),\n",
       " ('76299270000107', 'AZZ8136', datetime.datetime(2023, 1, 14, 12, 22, 22), 10),\n",
       " ('25634551000138', 'PXV1649', datetime.datetime(2022, 9, 5, 1, 22, 31), 9),\n",
       " ('82647884000135', 'QIJ9054', datetime.datetime(2022, 12, 11, 8, 47, 51), 9),\n",
       " ('25634551000138', 'PKK8897', datetime.datetime(2022, 2, 20, 3, 24, 15), 9),\n",
       " ('23542573000142', 'PXC6881', datetime.datetime(2022, 8, 27, 14, 27, 50), 9),\n",
       " ('92667948000113', 'IYG5582', datetime.datetime(2022, 10, 6, 20, 14, 54), 9),\n",
       " ('25634551000138', 'PKQ6290', datetime.datetime(2022, 5, 22, 11, 16, 27), 9),\n",
       " ('30069314000101', 'KVW4H69', datetime.datetime(2022, 12, 10, 10, 14, 12), 9),\n",
       " ('76299270000107', 'BDR6E38', datetime.datetime(2023, 1, 13, 17, 50), 9)]"
      ]
     },
     "execution_count": 4,
     "metadata": {},
     "output_type": "execute_result"
    }
   ],
   "source": [
    "result"
   ]
  },
  {
   "cell_type": "markdown",
   "id": "c97a16b5-c9a9-4335-b8e2-a696b8cdf493",
   "metadata": {},
   "source": [
    "### Saving ghost trips data for later analysis"
   ]
  },
  {
   "cell_type": "markdown",
   "id": "3a4c6565-ee57-4205-a098-bd2d7b51c0c7",
   "metadata": {},
   "source": [
    "Although we don't want to have these records saved in our database, it is still interesting to know how many ghost trips each company had. This way we can confidently assess which company had the most true trips (unique)."
   ]
  },
  {
   "cell_type": "code",
   "execution_count": 5,
   "id": "39068e12-bcec-4ee3-be2e-534575e2df69",
   "metadata": {},
   "outputs": [],
   "source": [
    "query = \"\"\"\n",
    "    WITH\n",
    "        GHOSTS AS (\n",
    "            SELECT\n",
    "                CNPJ, COUNT(1) AS C\n",
    "            FROM\n",
    "                REGULARTRIPS\n",
    "            GROUP BY\n",
    "                TRIPSTARTDATETIME, CNPJ, PLATE\n",
    "        ),\n",
    "        COMPANIES AS (\n",
    "            SELECT\n",
    "                CNPJ, SUM(C) - COUNT(1) AS GT, SUM(C) AS TT\n",
    "            FROM\n",
    "                GHOSTS\n",
    "            GROUP BY\n",
    "                CNPJ\n",
    "        )\n",
    "    SELECT\n",
    "        COMPANIES.CNPJ, COMPANIES.GT, COMPANIES.TT\n",
    "    FROM\n",
    "        COMPANIES\n",
    "\"\"\"\n",
    "\n",
    "db.ExecuteQuery(query, cur, conn)\n",
    "ghostTripsResult = cur.fetchall()"
   ]
  },
  {
   "cell_type": "code",
   "execution_count": 6,
   "id": "1b5bf563-02e5-4a86-bed4-88de825f2558",
   "metadata": {},
   "outputs": [
    {
     "data": {
      "text/html": [
       "<div>\n",
       "<style scoped>\n",
       "    .dataframe tbody tr th:only-of-type {\n",
       "        vertical-align: middle;\n",
       "    }\n",
       "\n",
       "    .dataframe tbody tr th {\n",
       "        vertical-align: top;\n",
       "    }\n",
       "\n",
       "    .dataframe thead th {\n",
       "        text-align: right;\n",
       "    }\n",
       "</style>\n",
       "<table border=\"1\" class=\"dataframe\">\n",
       "  <thead>\n",
       "    <tr style=\"text-align: right;\">\n",
       "      <th></th>\n",
       "      <th>Ghost Trips</th>\n",
       "      <th>True Trips</th>\n",
       "    </tr>\n",
       "  </thead>\n",
       "  <tbody>\n",
       "    <tr>\n",
       "      <th>count</th>\n",
       "      <td>213.000000</td>\n",
       "      <td>213.000000</td>\n",
       "    </tr>\n",
       "    <tr>\n",
       "      <th>mean</th>\n",
       "      <td>6531.572770</td>\n",
       "      <td>26047.253521</td>\n",
       "    </tr>\n",
       "    <tr>\n",
       "      <th>std</th>\n",
       "      <td>21252.720425</td>\n",
       "      <td>51527.901805</td>\n",
       "    </tr>\n",
       "    <tr>\n",
       "      <th>min</th>\n",
       "      <td>0.000000</td>\n",
       "      <td>11.000000</td>\n",
       "    </tr>\n",
       "    <tr>\n",
       "      <th>25%</th>\n",
       "      <td>4.000000</td>\n",
       "      <td>1405.000000</td>\n",
       "    </tr>\n",
       "    <tr>\n",
       "      <th>50%</th>\n",
       "      <td>49.000000</td>\n",
       "      <td>7522.000000</td>\n",
       "    </tr>\n",
       "    <tr>\n",
       "      <th>75%</th>\n",
       "      <td>1546.000000</td>\n",
       "      <td>25198.000000</td>\n",
       "    </tr>\n",
       "    <tr>\n",
       "      <th>max</th>\n",
       "      <td>156836.000000</td>\n",
       "      <td>348462.000000</td>\n",
       "    </tr>\n",
       "  </tbody>\n",
       "</table>\n",
       "</div>"
      ],
      "text/plain": [
       "         Ghost Trips     True Trips\n",
       "count     213.000000     213.000000\n",
       "mean     6531.572770   26047.253521\n",
       "std     21252.720425   51527.901805\n",
       "min         0.000000      11.000000\n",
       "25%         4.000000    1405.000000\n",
       "50%        49.000000    7522.000000\n",
       "75%      1546.000000   25198.000000\n",
       "max    156836.000000  348462.000000"
      ]
     },
     "execution_count": 6,
     "metadata": {},
     "output_type": "execute_result"
    }
   ],
   "source": [
    "ghostTripsDF = pd.DataFrame(ghostTripsResult, columns=[\"CNPJ\", \"Ghost Trips\", \"Total Trips\"])\n",
    "\n",
    "ghostTripsDF[\"Ghost Trips\"] = ghostTripsDF[\"Ghost Trips\"].astype('int')\n",
    "ghostTripsDF[\"Total Trips\"] = ghostTripsDF[\"Total Trips\"].astype('int')\n",
    "ghostTripsDF[\"True Trips\"] = ghostTripsDF[\"Total Trips\"] - ghostTripsDF[\"Ghost Trips\"]\n",
    "\n",
    "ghostTripsDF = ghostTripsDF.drop(columns=[\"Total Trips\"])\n",
    "ghostTripsDF.describe()"
   ]
  },
  {
   "cell_type": "code",
   "execution_count": 7,
   "id": "3b72ba90-3c89-414d-bb9a-bf4274019429",
   "metadata": {},
   "outputs": [],
   "source": [
    "ghostTripsList = list(ghostTripsDF.itertuples(index=False, name=None))\n",
    "query = \"\"\"\n",
    "    UPDATE COMPANYINFO AS INFO\n",
    "    SET\n",
    "    \tGHOSTTRIPS = DATA.GHOSTTRIPS,\n",
    "    \tTRUETRIPS = DATA.TRUETRIPS\n",
    "    FROM\n",
    "    \t(VALUES %s) AS DATA(CNPJ, GHOSTTRIPS, TRUETRIPS)\n",
    "    WHERE\n",
    "    \tINFO.CNPJ = DATA.CNPJ      \n",
    "\"\"\"\n",
    "db.ExecuteValues(query, cur, conn, ghostTripsList)\n",
    "conn.commit()"
   ]
  },
  {
   "cell_type": "markdown",
   "id": "bd253df4-add9-4a9d-aa28-cea8a1c1a000",
   "metadata": {},
   "source": [
    "## Removing Ghost Trips from regular trips table"
   ]
  },
  {
   "cell_type": "markdown",
   "id": "4777427a-2ac6-4c5d-bfa4-494736ac2940",
   "metadata": {},
   "source": [
    "Before any other data cleaning is done, we will remove all ghost trips from the regular trips table. This way, we can have more accurate data about the trips. \n",
    "\n",
    "Since this is a delicate operation, we will run a test to ensure that trips were removed correctly before commiting the updates."
   ]
  },
  {
   "cell_type": "code",
   "execution_count": 8,
   "id": "085a304b-db99-475d-ae59-67f107c16e29",
   "metadata": {},
   "outputs": [],
   "source": [
    "query = \"\"\"\n",
    "    WITH\n",
    "    \tGHOSTS AS (\n",
    "    \t\tSELECT\n",
    "    \t\t\tT.CNPJ,\n",
    "    \t\t\tT.PLATE,\n",
    "    \t\t\tT.TRIPSTARTDATETIME,\n",
    "    \t\t\tMAX(T.ID) AS MAXID\n",
    "    \t\tFROM\n",
    "    \t\t\tREGULARTRIPS AS T\n",
    "    \t\tGROUP BY\n",
    "    \t\t\tT.CNPJ,\n",
    "    \t\t\tT.PLATE,\n",
    "    \t\t\tT.TRIPSTARTDATETIME\n",
    "    \t\tHAVING\n",
    "    \t\t\tCOUNT(1) > 1\n",
    "    \t)\n",
    "    DELETE FROM\n",
    "        REGULARTRIPS AS T\n",
    "    USING \n",
    "        GHOSTS AS G\n",
    "    WHERE\n",
    "        G.CNPJ = T.CNPJ\n",
    "        AND G.PLATE = T.PLATE\n",
    "        AND G.TRIPSTARTDATETIME = T.TRIPSTARTDATETIME\n",
    "        AND T.ID < G.MAXID\n",
    "\"\"\"\n",
    "db.ExecuteQuery(query, cur, conn)"
   ]
  },
  {
   "cell_type": "code",
   "execution_count": 9,
   "id": "876e6ace-1273-403d-ae91-ca88894310bb",
   "metadata": {},
   "outputs": [],
   "source": [
    "testQuery = \"\"\"\n",
    "    SELECT\n",
    "        CNPJ, COUNT(1) AS C\n",
    "    FROM\n",
    "        REGULARTRIPS\n",
    "    GROUP BY \n",
    "        CNPJ\n",
    "\"\"\"\n",
    "cur.execute(testQuery)\n",
    "testResults = cur.fetchall()\n",
    "\n",
    "testsDF = pd.DataFrame(testResults, columns=[\"CNPJ\", \"True Trips\"])\n",
    "testsDF = testsDF.set_index(\"CNPJ\")"
   ]
  },
  {
   "cell_type": "code",
   "execution_count": 10,
   "id": "0e493b2b-6fb6-44b5-87e1-456e96cf3caa",
   "metadata": {},
   "outputs": [],
   "source": [
    "indexedGhostTrips = ghostTripsDF.set_index(\"CNPJ\")\n",
    "joinedDF = testsDF.join(indexedGhostTrips, how=\"inner\", lsuffix=\" Remaining\", rsuffix=\" Expected\")"
   ]
  },
  {
   "cell_type": "code",
   "execution_count": 11,
   "id": "fe4cd289-40c4-4f93-9985-714cea6304a2",
   "metadata": {},
   "outputs": [
    {
     "name": "stdout",
     "output_type": "stream",
     "text": [
      "Ghost trips succesfully deleted.\n"
     ]
    }
   ],
   "source": [
    "validation = joinedDF[\"True Trips Remaining\"] == joinedDF[\"True Trips Expected\"]\n",
    "if validation.all():\n",
    "    print(\"Ghost trips succesfully deleted.\")\n",
    "    conn.commit()\n",
    "else:\n",
    "    print(\"Error while deleting ghost trips.\")\n",
    "    conn.rollback()"
   ]
  },
  {
   "cell_type": "code",
   "execution_count": 12,
   "id": "a867063c-e7b0-4af8-bc11-f649c40f181e",
   "metadata": {},
   "outputs": [],
   "source": [
    "conn.close()"
   ]
  }
 ],
 "metadata": {
  "kernelspec": {
   "display_name": "Python 3 (ipykernel)",
   "language": "python",
   "name": "python3"
  },
  "language_info": {
   "codemirror_mode": {
    "name": "ipython",
    "version": 3
   },
   "file_extension": ".py",
   "mimetype": "text/x-python",
   "name": "python",
   "nbconvert_exporter": "python",
   "pygments_lexer": "ipython3",
   "version": "3.12.3"
  }
 },
 "nbformat": 4,
 "nbformat_minor": 5
}

{
 "cells": [
  {
   "cell_type": "markdown",
   "id": "65c8ade5-0920-4601-aa6f-b66a04113ef5",
   "metadata": {},
   "source": [
    "# WebScraping functions to find information about companies based on their cnpj"
   ]
  },
  {
   "cell_type": "code",
   "execution_count": 1,
   "id": "1d979ec6-e7a4-4e6e-b385-68f4ca6f5cf3",
   "metadata": {},
   "outputs": [],
   "source": [
    "import os\n",
    "import psycopg2"
   ]
  },
  {
   "cell_type": "code",
   "execution_count": 2,
   "id": "f7721592-dfe6-4bcd-8b7e-bd54bd94dc08",
   "metadata": {},
   "outputs": [],
   "source": [
    "def GetCNPJFromDB(conn):\n",
    "    query = \"\"\"\n",
    "        SELECT \n",
    "            DISTINCT(cnpj)\n",
    "        FROM \n",
    "            regulartrips\n",
    "        \"\"\"\n",
    "    \n",
    "    cur = conn.cursor()\n",
    "    cur.execute(query)\n",
    "    return cur.fetchall()"
   ]
  },
  {
   "cell_type": "code",
   "execution_count": 3,
   "id": "83674356-a560-4469-9f32-6ee0c1d5e758",
   "metadata": {},
   "outputs": [],
   "source": [
    "conn = psycopg2.connect(host='localhost', port=5432, dbname='ANTT', user=os.environ[\"PGDBUSER\"], password=os.environ[\"PGDBPASSWORD\"])\n",
    "cnpjs = GetCNPJFromDB(conn)\n",
    "conn.close()"
   ]
  },
  {
   "cell_type": "markdown",
   "id": "9dd5cdf4-736a-4ce8-9fe4-80434fa9c067",
   "metadata": {},
   "source": [
    "## Create pickle file for checkpoint"
   ]
  },
  {
   "cell_type": "code",
   "execution_count": 49,
   "id": "c1e98e96-fabe-4023-bd69-7434f15300e1",
   "metadata": {},
   "outputs": [],
   "source": [
    "import pickle\n",
    "\n",
    "pickleFilePath = \"../data/processedCNPJS.pickle\"\n",
    "\n",
    "if not os.path.exists(pickleFilePath):\n",
    "    empty = set(['placeholder'])\n",
    "    with open(pickleFilePath, 'wb') as p:\n",
    "        pickle.dump(empty, p)"
   ]
  },
  {
   "cell_type": "markdown",
   "id": "92cf782a-907f-4e29-bc8a-15366242b9bf",
   "metadata": {},
   "source": [
    "## Set socket timeout to avoid [hanging connection](https://github.com/psf/requests/issues/3353)"
   ]
  },
  {
   "cell_type": "code",
   "execution_count": 20,
   "id": "7d1a46e4-7cae-449f-ab11-c26c1ee4c99f",
   "metadata": {},
   "outputs": [],
   "source": [
    "import socket\n",
    "socket.setdefaulttimeout(None)"
   ]
  },
  {
   "cell_type": "markdown",
   "id": "4f3ff510-adb2-4088-b043-f057bf473180",
   "metadata": {},
   "source": [
    "## Define user agents to avoid automation detection"
   ]
  },
  {
   "cell_type": "code",
   "execution_count": 7,
   "id": "1c7e98c6-3f2a-468e-bd64-7c783fc74417",
   "metadata": {},
   "outputs": [],
   "source": [
    "import random\n",
    "import itertools\n",
    "\n",
    "userAgents = [\n",
    "    \"Mozilla/5.0 (Windows NT 10.0; Win64; x64) AppleWebKit/537.36 (KHTML, like Gecko) Chrome/134.0.0.0 Safari/537.3\",\n",
    "    \"Mozilla/5.0 (X11; Linux x86_64) AppleWebKit/537.36 (KHTML, like Gecko) Chrome/134.0.0.0 Safari/537.3\",\n",
    "    \"Mozilla/5.0 (Windows NT 10.0; Win64; x64) AppleWebKit/537.36 (KHTML, like Gecko) Chrome/134.0.0.0 Safari/537.36 Trailer/93.3.8652.5\",\n",
    "    \"Mozilla/5.0 (Macintosh; Intel Mac OS X 10_15_7) AppleWebKit/537.36 (KHTML, like Gecko) Chrome/113.0.0.0 Safari/537.3\",\n",
    "    \"Mozilla/5.0 (Windows NT 10.0; Win64; x64) AppleWebKit/537.36 (KHTML, like Gecko) Chrome/134.0.0.0 Safari/537.36 Edg/134.0.0.\"\n",
    "]\n",
    "\n",
    "def GetUserAgentRotator(userAgents):\n",
    "    random.shuffle(userAgents)\n",
    "    return itertools.cycle(userAgents)"
   ]
  },
  {
   "cell_type": "markdown",
   "id": "05944d4a-a723-4ef5-8bd9-c73389ba219e",
   "metadata": {},
   "source": [
    "## Initialize variables for scraping"
   ]
  },
  {
   "cell_type": "code",
   "execution_count": 47,
   "id": "4b735220-c96b-4e2b-9070-31338a24d98a",
   "metadata": {},
   "outputs": [],
   "source": [
    "def GetProcessedCNPJs(filePath):\n",
    "    processedCNPJs = set([])\n",
    "    with open(filePath, 'rb') as p:\n",
    "        processedCNPJs = pickle.load(p)\n",
    "\n",
    "    return processedCNPJs"
   ]
  },
  {
   "cell_type": "code",
   "execution_count": 59,
   "id": "bd15a723-1a8d-42fe-8961-523042907992",
   "metadata": {},
   "outputs": [],
   "source": [
    "baseUrl = \"https://cnpj.biz/\"\n",
    "className = \"post-title.empresa-title\"\n",
    "result = []\n",
    "processedCNPJs = GetProcessedCNPJs(pickleFilePath)"
   ]
  },
  {
   "cell_type": "code",
   "execution_count": 60,
   "id": "cfd84079-20ef-4c87-9488-75a521652b43",
   "metadata": {
    "scrolled": true
   },
   "outputs": [
    {
     "name": "stdout",
     "output_type": "stream",
     "text": [
      "{'02026255000159', '28812022000175', '01016179000138', '91873372000188', '20526371000119', '18538045000180', '01543354000145', '08374919000157', '07175375000131', '07549414000113', '03932339000114', '27177468000102', '88446869000105', '28789982000161', '27175975000107', '04693576000132', '32404063000108', '20146015000170', '03456707000103', '06789401000159', '01745523000120', '04801028000189', '03641223000126', '04229706000180', '05921606000183', '76544501000109', '32285454000142', '01751730000197', '78586674000107', '12191409000111', '18449504000159', '23338155000138', '80544885000129', '98593668000194', '07811161000104', '19350180000160', '41379983000104', '92667948000113', '06044464000186', '30910717000131', '01502456000112', '17063703000161', '11884579000119', '12766454000157', '07241838000116', '21642756000104', '59163162000193', '82647884000135', '79111779000172', '01016989003290', '15474486000177', '16345282000107', '01718370000121', '12423586000186', '19125863000113', '13406285000107', '23542573000142', '03143492000162', '14602189000105', '08430408000105', '25634569000130', '61898813000135', '72543978000100', '17257916000124', '60765633000112', '11772761000188', '22801415000105', 'placeholder', '04680853000172', '91458133000161', '37098480000185', '28670958000109', '16517193000192', '92954106000142', '09550578000196', '03233439000152', '10512434000124', '01017201000164', '16041592000120', '97476113000108', '41550112000101', '77472371000109', '23757375000104', '10791861000199', '19167513000110', '22783790000161', '80414691000109', '01561646000100', '18472288000162', '52771516000133', '07783041000140', '10423773000134', '02227767000183', '78352663000162', '76539600000194', '20448221000134', '10861396000115', '18896458000136', '25431016000180', '25634551000138', '17997420000197', '88628417000144', '03621121000149', '11137434000154', '16624611000140', '05263312000101', '60829264000184', '18751408000160', '23302515000141', '95592077000104', '04768381000104', '05423509000160', '14492342000180', '30577668000167', '44944577000127', '25629544000148', '43004159000197', '01564418000194', '00282582000146', '01552504000187', '11047649000184', '31134885000145', '92772540000101', '55334262000184', '26760933000170', '81159857000150', '06692107000205', '49914641000140', '10257014000149', '61563557000125', '19339415000112', '19582170000150', '01315775000119', '05108552000131', '37111549000163', '02514912000107', '59965038000141', '00389075000106', '76299270000107', '21566120000120', '01031060000134', '08324808000136', '03854439000170', '33374141000123', '04816447000194', '04110258000100', '75156265000182', '04242570000149', '89484372000144', '01557408000121', '28690998000112', '07622365000105', '01608998000174', '44993632000179', '16989036000180', '10918268000160', '28414054000112', '01945637000113', '05233521000102', '02729226000153', '76080738000178', '00033613000125', '09399877000171', '30069314000101', '01526219000191', '33698981000141', '08284332000157', '02190197000102', '16505190000139', '13207092000127', '10651870000184', '52406329000150', '05939969000146', '61084018000103', '76354281000142', '34805903000161', '45101334000190', '24524797000194', '76664986000166', '44780328000143', '80227796000159', '55340921000195', '11988591000173', '02659207000106', '02353699000107', '86431749000109', '34280525000140', '27488725000127', '76530278000132', '06773063000167', '05051769000152', '04080646000187', '01813824000143', '82563891000159', '10771628000144', '26484154000190', '23562535000151', '10788677000190', '27445957000106', '04787941000178', '27486182000109', '05493209000158', '55958318000171', '88327960000101', '01026921000196', '00018127000138', '95424735000159', '45605755000158', '19632116000171', '26621050000180', '38478982000102', '04697277000176', '03184521000134', '04176082000180'}\n"
     ]
    }
   ],
   "source": [
    "print(processedCNPJs)"
   ]
  },
  {
   "cell_type": "code",
   "execution_count": 61,
   "id": "eba4cb74-5fc9-471a-8d91-d230612e7224",
   "metadata": {
    "scrolled": true
   },
   "outputs": [],
   "source": [
    "import undetected_chromedriver as uc\n",
    "from selenium.webdriver.common.by import By\n",
    "from selenium.webdriver.support.wait import WebDriverWait\n",
    "from selenium.webdriver.support import expected_conditions as EC\n",
    "\n",
    "userAgentsCycle = GetUserAgentRotator(userAgents)\n",
    "\n",
    "options = uc.ChromeOptions()\n",
    "options.headless = True\n",
    "options.timeout = { 'script': 1800 }\n",
    "options.add_argument(f\"--user-agent={next(userAgentsCycle)}\")\n",
    "\n",
    "driver = uc.Chrome(options=options)"
   ]
  },
  {
   "cell_type": "markdown",
   "id": "dd808380-e65e-4085-ac51-01b655621a72",
   "metadata": {},
   "source": [
    "## Save names to DB"
   ]
  },
  {
   "cell_type": "code",
   "execution_count": 38,
   "id": "9a79219a-213e-4552-b257-ea52e0377126",
   "metadata": {},
   "outputs": [],
   "source": [
    "def SaveBatchToDB(conn, tableName, data):\n",
    "    cur = conn.cursor()    \n",
    "    cur.executemany(\n",
    "        f\"\"\"\n",
    "        INSERT INTO\n",
    "            {tableName}\n",
    "        VALUES (%s, %s)\n",
    "        \"\"\", \n",
    "        data\n",
    "    )\n",
    "    conn.commit()\n",
    "\n",
    "def SaveCNPJsToPickle(filePath, cnpjs):\n",
    "    with open(filePath, 'wb') as p:\n",
    "        pickle.dump(cnpjs, p)"
   ]
  },
  {
   "cell_type": "markdown",
   "id": "c2509db6-529c-46df-8ca0-e71325116190",
   "metadata": {},
   "source": [
    "## Scrape for each CNPJ"
   ]
  },
  {
   "cell_type": "code",
   "execution_count": 62,
   "id": "6dff8105-486d-4cc3-9398-4420e74dcda2",
   "metadata": {
    "scrolled": true
   },
   "outputs": [],
   "source": [
    "import time\n",
    "\n",
    "conn = psycopg2.connect(host='localhost', port=5432, dbname='ANTT', user=os.environ[\"PGDBUSER\"], password=os.environ[\"PGDBPASSWORD\"])\n",
    "\n",
    "count = 0\n",
    "checkpointSize = 10\n",
    "processedCNPJs = GetProcessedCNPJs(pickleFilePath)\n",
    "\n",
    "for cnpj in cnpjs:\n",
    "    cnpj = cnpj[0]\n",
    "    if cnpj in processedCNPJs:\n",
    "        continue\n",
    "\n",
    "    finalUrl = baseUrl + cnpj\n",
    "    count += 1    \n",
    "\n",
    "    try:\n",
    "        driver.execute_cdp_cmd('Network.setUserAgentOverride', {\n",
    "            \"userAgent\": next(userAgentsCycle)\n",
    "        })\n",
    "        driver.get(finalUrl)\n",
    "        element = WebDriverWait(driver, 5).until(\n",
    "            EC.presence_of_element_located((By.CLASS_NAME, className))\n",
    "            )\n",
    "            \n",
    "        companyName = element.text\n",
    "        result.append((cnpj, companyName))\n",
    "        print(f\"Successfully fetched name from {cnpj}: {companyName}\")\n",
    "    except Exception as e:\n",
    "        print(e)\n",
    "        print(f\"Failed to fetch company name from cnpj: {cnpj}, {finalUrl}\")\n",
    "        \n",
    "    if count % checkpointSize == 0:\n",
    "        SaveBatchToDB(conn, 'companyinfo', result)\n",
    "        \n",
    "        for key, value in result:\n",
    "            processedCNPJs.add(key)\n",
    "        SaveCNPJsToPickle(pickleFilePath, processedCNPJs)\n",
    "        \n",
    "        result = []\n",
    "        print(f\"CNPJs processed: {count*100/len(cnpjs)}%\")\n",
    "    \n",
    "    time.sleep(1)\n",
    "\n",
    "SaveBatchToDB(conn, 'companyinfo', result)        \n",
    "for key, value in result:\n",
    "    processedCNPJs.add(key)\n",
    "SaveCNPJsToPickle(pickleFilePath, processedCNPJs)\n",
    "\n",
    "conn.close()\n",
    "driver.close()"
   ]
  },
  {
   "cell_type": "markdown",
   "id": "91fc2ac2-47ce-4e09-9378-9a921a7bf699",
   "metadata": {},
   "source": [
    "## Remove cnpj from company names"
   ]
  },
  {
   "cell_type": "code",
   "execution_count": 31,
   "id": "7d28a619-5dab-4d4f-9c3b-063fd455c6ee",
   "metadata": {},
   "outputs": [],
   "source": [
    "import os\n",
    "import psycopg2\n",
    "\n",
    "conn = psycopg2.connect(host='localhost', port=5432, dbname='ANTT', user=os.environ[\"PGDBUSER\"], password=os.environ[\"PGDBPASSWORD\"])\n",
    "cur = conn.cursor()"
   ]
  },
  {
   "cell_type": "code",
   "execution_count": 32,
   "id": "397c330a-f441-4925-8a37-fbec95d4a4df",
   "metadata": {},
   "outputs": [],
   "source": [
    "query = \"\"\"\n",
    "    SELECT\n",
    "        cnpj, name\n",
    "    FROM\n",
    "        companyinfo\n",
    "\"\"\"\n",
    "cur.execute(query)\n",
    "result = cur.fetchall()"
   ]
  },
  {
   "cell_type": "code",
   "execution_count": 33,
   "id": "66f92cee-9f5d-4e70-b581-4062063a09d5",
   "metadata": {},
   "outputs": [],
   "source": [
    "def PreprocessName(name):\n",
    "    name = name[:-19]\n",
    "\n",
    "    if name[-1] == '-':\n",
    "        name = name[:-2]\n",
    "\n",
    "    return name"
   ]
  },
  {
   "cell_type": "code",
   "execution_count": 28,
   "id": "6d192f9e-0135-49ea-89e1-7e9624e98902",
   "metadata": {},
   "outputs": [],
   "source": [
    "processedNames = []\n",
    "\n",
    "for entry in result:\n",
    "    processedNames.append({'cnpj': entry[0], 'name': PreprocessName(entry[1])})"
   ]
  },
  {
   "cell_type": "code",
   "execution_count": 35,
   "id": "067a0324-53f7-434f-bda9-0ec585474bd3",
   "metadata": {},
   "outputs": [],
   "source": [
    "for entry in processedNames:\n",
    "    query = f\"\"\"\n",
    "        UPDATE\n",
    "            companyinfo\n",
    "        SET \n",
    "            name = (%(name)s)\n",
    "        WHERE\n",
    "            cnpj = (%(cnpj)s);\n",
    "    \"\"\"\n",
    "    cur.execute(query, entry)\n",
    "\n",
    "conn.commit()\n",
    "conn.close()"
   ]
  }
 ],
 "metadata": {
  "kernelspec": {
   "display_name": "Python 3 (ipykernel)",
   "language": "python",
   "name": "python3"
  },
  "language_info": {
   "codemirror_mode": {
    "name": "ipython",
    "version": 3
   },
   "file_extension": ".py",
   "mimetype": "text/x-python",
   "name": "python",
   "nbconvert_exporter": "python",
   "pygments_lexer": "ipython3",
   "version": "3.12.3"
  }
 },
 "nbformat": 4,
 "nbformat_minor": 5
}

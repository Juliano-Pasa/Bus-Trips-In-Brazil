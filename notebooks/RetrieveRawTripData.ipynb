{
 "cells": [
  {
   "cell_type": "markdown",
   "id": "86920590-5a99-48cd-b2dc-a88b6af5b251",
   "metadata": {},
   "source": [
    "# Imports"
   ]
  },
  {
   "cell_type": "code",
   "execution_count": 1,
   "id": "ce9a53e2-556b-4325-afe8-21767d489ff1",
   "metadata": {},
   "outputs": [],
   "source": [
    "from buspkg.WebDriver import WebDriver\n",
    "from selenium.webdriver.common.by import By\n",
    "\n",
    "from concurrent.futures import ThreadPoolExecutor\n",
    "import requests"
   ]
  },
  {
   "cell_type": "markdown",
   "id": "9e8dd152-6f60-4071-a3cf-114199a99736",
   "metadata": {},
   "source": [
    "# Retrieving files URLs from HTML tag"
   ]
  },
  {
   "cell_type": "markdown",
   "id": "a9128d18-e0a6-480f-a2ee-8568c740f8d0",
   "metadata": {},
   "source": [
    "ANTT provides their data in CSV format through download links in their [website](https://dados.antt.gov.br/dataset/monitriip-servico-regular-viagens).\n",
    "\n",
    "Each file's URL can be found in a HTML tag with class 'resource-url-analytics'"
   ]
  },
  {
   "cell_type": "code",
   "execution_count": 2,
   "id": "fdd49364-b17f-4ed0-acd4-9651ea894d01",
   "metadata": {},
   "outputs": [],
   "source": [
    "url = \"https://dados.antt.gov.br/dataset/monitriip-servico-regular-viagens\"\n",
    "className = \"resource-url-analytics\"\n",
    "\n",
    "driver = WebDriver()\n",
    "driver.get(url)\n",
    "\n",
    "elements = driver.find_elements(By.CLASS_NAME, className)\n",
    "filesURLs = [element.get_attribute(\"href\") for element in elements]\n",
    "\n",
    "driver.close()"
   ]
  },
  {
   "cell_type": "markdown",
   "id": "ce5e40fd-6a10-4dc4-9865-5f1c945d04e9",
   "metadata": {},
   "source": [
    "# Filter only CSV files"
   ]
  },
  {
   "cell_type": "markdown",
   "id": "39e33712-d6cd-4c6e-8e8e-938e3f13542b",
   "metadata": {},
   "source": [
    "Among the retrieved URLs, ANTT provides a PDF file with datatypes and a HTML file with a PowerBI about the data"
   ]
  },
  {
   "cell_type": "code",
   "execution_count": 3,
   "id": "67b67446-d539-4e8d-919f-b874b2fb53c9",
   "metadata": {},
   "outputs": [],
   "source": [
    "filteredURLs = [url for url in filesURLs if url.endswith('.csv')]"
   ]
  },
  {
   "cell_type": "code",
   "execution_count": 4,
   "id": "45eedd0c-66f6-4d90-b1d2-fa93e873f683",
   "metadata": {},
   "outputs": [
    {
     "name": "stdout",
     "output_type": "stream",
     "text": [
      "72\n"
     ]
    }
   ],
   "source": [
    "print(len(filteredURLs))"
   ]
  },
  {
   "cell_type": "markdown",
   "id": "f21c9f64-359d-43ff-9fc6-76fd15dcaf69",
   "metadata": {},
   "source": [
    "# Download CSV files"
   ]
  },
  {
   "cell_type": "markdown",
   "id": "88072233-d9eb-4f08-a77b-80570e0e443a",
   "metadata": {},
   "source": [
    "Download files from filtered URLs using requests and ThreadPools"
   ]
  },
  {
   "cell_type": "code",
   "execution_count": 5,
   "id": "87bd392e-da4a-4afd-8edd-afbb98c2c3bd",
   "metadata": {},
   "outputs": [],
   "source": [
    "def DownloadFile(url):\n",
    "    response = requests.get(url)\n",
    "    filename = f\"../data/rawfiles/{url.split(\"/\")[-1]}\"\n",
    "\n",
    "    with open(filename, mode=\"wb\") as file:\n",
    "        file.write(response.content)\n",
    "    \n",
    "with ThreadPoolExecutor() as executor:\n",
    "    executor.map(DownloadFile, filteredURLs)"
   ]
  }
 ],
 "metadata": {
  "kernelspec": {
   "display_name": "Python 3 (ipykernel)",
   "language": "python",
   "name": "python3"
  },
  "language_info": {
   "codemirror_mode": {
    "name": "ipython",
    "version": 3
   },
   "file_extension": ".py",
   "mimetype": "text/x-python",
   "name": "python",
   "nbconvert_exporter": "python",
   "pygments_lexer": "ipython3",
   "version": "3.12.3"
  }
 },
 "nbformat": 4,
 "nbformat_minor": 5
}

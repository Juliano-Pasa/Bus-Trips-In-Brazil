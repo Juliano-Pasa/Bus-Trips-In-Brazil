{
 "cells": [
  {
   "cell_type": "markdown",
   "id": "9c117fb5-0fe8-4269-92cf-3ab146ea5d51",
   "metadata": {},
   "source": [
    "# Imports and DB connection"
   ]
  },
  {
   "cell_type": "code",
   "execution_count": 1,
   "id": "add8126a-ce28-4ed6-9f64-3cfa9690f91d",
   "metadata": {},
   "outputs": [],
   "source": [
    "import os\n",
    "import psycopg2\n",
    "from buspkg import DBFunctions as db"
   ]
  },
  {
   "cell_type": "code",
   "execution_count": 2,
   "id": "187269e5-0642-4495-a8d6-14f2d71a3a93",
   "metadata": {},
   "outputs": [],
   "source": [
    "conn = db.GetDefaultConnection()\n",
    "cur = conn.cursor()"
   ]
  },
  {
   "cell_type": "markdown",
   "id": "54fd997e-d53f-404e-b416-94a50205a1eb",
   "metadata": {},
   "source": [
    "## Create Tables"
   ]
  },
  {
   "cell_type": "markdown",
   "id": "664b8a12-6ab2-417b-bb15-e1e2fa84759a",
   "metadata": {},
   "source": [
    "This notebook works more iteratively throughout the project. As more data is collected, different tables must be created or altered.\n",
    "\n",
    "If a table must be altered to accomodate new data, the SQL command to alter it will be executed but not commited in git. Instead, the create table command will be updated and the update will be logged. This was a decision to enhance code reproducibility but still keep track of all updates."
   ]
  },
  {
   "cell_type": "markdown",
   "id": "48a90e85-160f-43c6-9ce8-89ab2db30121",
   "metadata": {},
   "source": [
    "### Create Company Info table\n",
    "\n",
    "- Create table"
   ]
  },
  {
   "cell_type": "code",
   "execution_count": 3,
   "id": "8fe06f5f-1642-4d44-b977-1aed13343928",
   "metadata": {},
   "outputs": [],
   "source": [
    "query = \"\"\"\n",
    "    CREATE TABLE IF NOT EXISTS \n",
    "        CompanyInfo (\n",
    "            cnpj VARCHAR(20) PRIMARY KEY,\n",
    "            name VARCHAR(255)\n",
    "        );\n",
    "\"\"\"\n",
    "db.ExecuteQuery(query, cur, conn)\n",
    "conn.commit()"
   ]
  },
  {
   "cell_type": "markdown",
   "id": "25828373-0aa0-4c80-afd7-b1c3bc75fede",
   "metadata": {},
   "source": [
    "### Create Trips table\n",
    "\n",
    "- Create table"
   ]
  },
  {
   "cell_type": "code",
   "execution_count": 4,
   "id": "665666cf-ae72-4629-b34e-8141274ce139",
   "metadata": {},
   "outputs": [],
   "source": [
    "query = \"\"\"\n",
    "    CREATE TABLE IF NOT EXISTS \n",
    "        RegularTrips (\n",
    "            id VARCHAR(10),\n",
    "            cnpj VARCHAR(20),\n",
    "            plate VARCHAR(10),\n",
    "            line VARCHAR(10),\n",
    "            tripType VARCHAR(20),\n",
    "            expectedTripDate DATE,\n",
    "            expectedTripHour TIME,\n",
    "            tripStartDateTime TIMESTAMP NOT NULL,\n",
    "            tripEndDateTime TIMESTAMP,\n",
    "            lineDirection BOOL,\n",
    "            latitude REAL,\n",
    "            longitude REAL,\n",
    "            pdop REAL,\n",
    "            imei VARCHAR(20),\n",
    "            transbordo BOOL,\n",
    "            transbordoCode VARCHAR(20),\n",
    "            PRIMARY KEY (tripStartDateTime, id)\n",
    "        ) \n",
    "    PARTITION BY RANGE (tripStartDateTime);\n",
    "\"\"\"\n",
    "\n",
    "db.ExecuteQuery(query, cur, conn)\n",
    "conn.commit()"
   ]
  },
  {
   "cell_type": "code",
   "execution_count": 5,
   "id": "e65b6a9d-4a83-4b7b-87d4-ca451177ab33",
   "metadata": {},
   "outputs": [],
   "source": [
    "firstYear = 2019\n",
    "lastYear = 2024\n",
    "firstMonth = 1\n",
    "lastMonth = 12"
   ]
  },
  {
   "cell_type": "code",
   "execution_count": 6,
   "id": "85600133-f385-4e91-9e5c-d9e48597d981",
   "metadata": {},
   "outputs": [],
   "source": [
    "for year in range(firstYear, lastYear+1):\n",
    "    for month in range(firstMonth, lastMonth+1):\n",
    "        start = f\"{year}-{month:02d}-01\"\n",
    "        end = f\"{year + month//12}-{((month)%12 + 1):02d}-01\"\n",
    "\n",
    "        query = f\"\"\"\n",
    "            CREATE TABLE IF NOT EXISTS\n",
    "                RegularTrips_{year}_{month}\n",
    "            PARTITION OF\n",
    "                RegularTrips\n",
    "            FOR VALUES FROM ('{start}') TO ('{end}')\n",
    "        \"\"\"\n",
    "\n",
    "        db.ExecuteQuery(query, cur, conn)\n",
    "conn.commit()"
   ]
  }
 ],
 "metadata": {
  "kernelspec": {
   "display_name": "Python 3 (ipykernel)",
   "language": "python",
   "name": "python3"
  },
  "language_info": {
   "codemirror_mode": {
    "name": "ipython",
    "version": 3
   },
   "file_extension": ".py",
   "mimetype": "text/x-python",
   "name": "python",
   "nbconvert_exporter": "python",
   "pygments_lexer": "ipython3",
   "version": "3.12.3"
  }
 },
 "nbformat": 4,
 "nbformat_minor": 5
}

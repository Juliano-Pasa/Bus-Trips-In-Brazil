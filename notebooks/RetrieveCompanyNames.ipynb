{
 "cells": [
  {
   "cell_type": "markdown",
   "id": "45b162b0-76c4-473e-a510-1984c56186e8",
   "metadata": {},
   "source": [
    "# Imports"
   ]
  },
  {
   "cell_type": "code",
   "execution_count": 1,
   "id": "97a94ba4-ba6b-473b-aa8e-91c710007c51",
   "metadata": {},
   "outputs": [],
   "source": [
    "from buspkg.ProcessData import GetPickleCheckpoint, SavePickleCheckpoint, StripCNPJFromName\n",
    "from buspkg.WebDriver import WebDriver\n",
    "from buspkg import DBFunctions as db\n",
    "\n",
    "from selenium.webdriver.common.by import By\n",
    "from selenium.webdriver.support.wait import WebDriverWait\n",
    "from selenium.webdriver.support import expected_conditions as EC"
   ]
  },
  {
   "cell_type": "markdown",
   "id": "54e0352c-c908-4b59-bf4d-105c5177074d",
   "metadata": {},
   "source": [
    "# Connect to DB"
   ]
  },
  {
   "cell_type": "code",
   "execution_count": 2,
   "id": "bc5413fa-30a4-4816-b311-54e4b149bb86",
   "metadata": {},
   "outputs": [],
   "source": [
    "conn = db.GetDefaultConnection()\n",
    "cur = conn.cursor()"
   ]
  },
  {
   "cell_type": "markdown",
   "id": "65c8ade5-0920-4601-aa6f-b66a04113ef5",
   "metadata": {},
   "source": [
    "## Retrieve all CNPJs from the database"
   ]
  },
  {
   "cell_type": "markdown",
   "id": "da1b2f2a-b6bc-4d5d-93cf-c33a63d5d683",
   "metadata": {},
   "source": [
    "Raw data from ANTT only contains CNPJ data from each company. For future analysis, we will use the companyinfo table to store various informations about registered companies. For now, this notebook is responsible for web scraping the name of each company based on their CNPJ, so that visualizations are cleaner"
   ]
  },
  {
   "cell_type": "code",
   "execution_count": 3,
   "id": "efe824c9-c34c-48f5-bee4-54aa8d136973",
   "metadata": {},
   "outputs": [],
   "source": [
    "query = \"SELECT DISTINCT(cnpj) FROM RegularTrips\"\n",
    "db.ExecuteQuery(query, cur, conn)\n",
    "cnpjs = cur.fetchall()"
   ]
  },
  {
   "cell_type": "markdown",
   "id": "92cf782a-907f-4e29-bc8a-15366242b9bf",
   "metadata": {},
   "source": [
    "## Set socket timeout to avoid [hanging connection](https://github.com/psf/requests/issues/3353)"
   ]
  },
  {
   "cell_type": "markdown",
   "id": "88bb1cf3-cddf-47fb-b6c6-cc0bba95f1c4",
   "metadata": {},
   "source": [
    "There is still a little bit of confusion regarding what is causing hanging connections in my implementations, but this works for now."
   ]
  },
  {
   "cell_type": "code",
   "execution_count": 4,
   "id": "7d1a46e4-7cae-449f-ab11-c26c1ee4c99f",
   "metadata": {},
   "outputs": [],
   "source": [
    "import socket\n",
    "socket.setdefaulttimeout(None)"
   ]
  },
  {
   "cell_type": "markdown",
   "id": "169b67ec-6e36-40bd-8082-7ca7067d6866",
   "metadata": {},
   "source": [
    "## Web Scrape for company names based on their CNPJ"
   ]
  },
  {
   "cell_type": "markdown",
   "id": "fa5aecff-9e46-42c7-b347-0bff78203826",
   "metadata": {},
   "source": [
    "For each CNPJ registered in the database, we will scrape the company name from [this website](https://cnpj.biz). When searching for CNPJs, company names are in a text field with of class `post-title empresa-title`. Same as in other notebooks, we use a pickle file as checkpoint."
   ]
  },
  {
   "cell_type": "code",
   "execution_count": 5,
   "id": "94308373-f113-476a-90df-a18c2a82f8ad",
   "metadata": {},
   "outputs": [],
   "source": [
    "pickleFilePath = \"../data/checkpoints/ProcessedCNPJsCheckpoint.pickle\"\n",
    "baseUrl = \"https://cnpj.biz/\"\n",
    "className = \"post-title.empresa-title\"\n",
    "\n",
    "tableName = \"CompanyInfo\"\n",
    "webdriver = WebDriver()"
   ]
  },
  {
   "cell_type": "code",
   "execution_count": 6,
   "id": "1cd011c5-9edd-4575-bc34-9e1317cdc2a9",
   "metadata": {},
   "outputs": [],
   "source": [
    "processedCNPJs = GetPickleCheckpoint(pickleFilePath)\n",
    "if not processedCNPJs:\n",
    "    processedCNPJs = set([])\n",
    "\n",
    "for cnpj in cnpjs:\n",
    "    cnpj = cnpj[0]\n",
    "    if cnpj in processedCNPJs:\n",
    "        continue\n",
    "\n",
    "    finalUrl = baseUrl + cnpj\n",
    "\n",
    "    try:\n",
    "        webdriver.get(finalUrl)\n",
    "        element = WebDriverWait(webdriver, 5).until(\n",
    "            EC.presence_of_element_located((By.CLASS_NAME, className))\n",
    "        )\n",
    "\n",
    "        companyName = StripCNPJFromName(element.text)\n",
    "        db.WriteBatchToDB([(cnpj, companyName)], tableName, cur, conn)\n",
    "    except Exception as e:\n",
    "        print(e)\n",
    "        print(f\"Failed to fetch company name from cnpj: {cnpj}, {finalUrl}\")\n",
    "    else:\n",
    "        processedCNPJs.add(cnpj)\n",
    "        \n",
    "SavePickleCheckpoint(pickleFilePath, processedCNPJs)        "
   ]
  },
  {
   "cell_type": "code",
   "execution_count": 7,
   "id": "7085b833-f0f1-488f-aac8-16a44b09f9d0",
   "metadata": {},
   "outputs": [],
   "source": [
    "conn.close()"
   ]
  }
 ],
 "metadata": {
  "kernelspec": {
   "display_name": "Python 3 (ipykernel)",
   "language": "python",
   "name": "python3"
  },
  "language_info": {
   "codemirror_mode": {
    "name": "ipython",
    "version": 3
   },
   "file_extension": ".py",
   "mimetype": "text/x-python",
   "name": "python",
   "nbconvert_exporter": "python",
   "pygments_lexer": "ipython3",
   "version": "3.12.3"
  }
 },
 "nbformat": 4,
 "nbformat_minor": 5
}
